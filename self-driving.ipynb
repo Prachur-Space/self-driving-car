{
 "cells": [
  {
   "cell_type": "code",
   "execution_count": 1,
   "id": "6d440430",
   "metadata": {},
   "outputs": [
    {
     "name": "stdout",
     "output_type": "stream",
     "text": [
      "Total Images Imported: 11603\n"
     ]
    }
   ],
   "source": [
    "import os\n",
    "import random\n",
    "import numpy as np\n",
    "import pandas as pd\n",
    "import matplotlib.pyplot as plt\n",
    "import matplotlib.image as mpimg\n",
    "import cv2\n",
    "import socketio\n",
    "import eventlet\n",
    "from flask import Flask\n",
    "from tensorflow.keras.models import Sequential, load_model\n",
    "from tensorflow.keras.layers import Dense, Conv2D, Flatten\n",
    "from tensorflow.keras.optimizers import Adam\n",
    "from tensorflow.keras.preprocessing import image\n",
    "from imgaug import augmenters as iaa\n",
    "from io import BytesIO\n",
    "from PIL import Image\n",
    "import base64\n",
    "from sklearn.utils import shuffle\n",
    "os.environ['TF_CPP_MIN_LOG_LEVEL'] = '3'\n",
    "\n",
    "def getName(filePath):\n",
    "    return filePath.split('\\\\')[-1]\n",
    "\n",
    "def importDataInfo(path):\n",
    "    columns = ['Center', 'Left', 'Right', 'Steering', 'Throttle', 'Brake', 'Speed']\n",
    "    data = pd.read_csv(os.path.join(r\"C:\\Users\\Administrator\\source\\repos\\self-driving-car-sim\\data\", 'driving_log.csv'), names=columns)\n",
    "    data['Center'] = data['Center'].apply(getName)\n",
    "    print('Total Images Imported:', data.shape[0])\n",
    "    return data\n",
    "\n",
    "path = r\"myData\"\n",
    "data = importDataInfo(path)\n",
    "from tensorflow.keras.preprocessing import image\n",
    "import numpy as np\n",
    "\n",
    "def preprocess_image(img_path):\n",
    "    img = image.load_img(img_path, target_size=(66, 200))  # Resize to the expected input size\n",
    "    img_array = image.img_to_array(img)  # Convert to numpy array\n",
    "    img_array = np.expand_dims(img_array, axis=0)  # Add batch dimension\n",
    "    img_array = img_array / 255.0  # Normalize the image\n",
    "    return img_array\n"
   ]
  },
  {
   "cell_type": "code",
   "execution_count": 2,
   "id": "879dbc5d",
   "metadata": {},
   "outputs": [],
   "source": [
    "def balanceData(data, display=True):\n",
    "    nBin = 31\n",
    "    samplesPerBin = 500\n",
    "    hist, bins = np.histogram(data['Steering'], nBin)\n",
    "\n",
    "    if display:\n",
    "        center = (bins[:-1] + bins[1:]) * 0.5\n",
    "        plt.bar(center, hist, width=0.06)\n",
    "        plt.plot((np.min(data['Steering']), np.max(data['Steering'])), (samplesPerBin, samplesPerBin))\n",
    "        plt.show()\n",
    "\n",
    "    removeindexList = []\n",
    "    for j in range(nBin):\n",
    "        binDataList = []\n",
    "        for i in range(len(data['Steering'])):\n",
    "            if data['Steering'][i] >= bins[j] and data['Steering'][i] <= bins[j + 1]:\n",
    "                binDataList.append(i)\n",
    "        \n",
    "        binDataList = shuffle(binDataList)\n",
    "        binDataList = binDataList[samplesPerBin:]\n",
    "        removeindexList.extend(binDataList)\n",
    "\n",
    "    print('Removed Images:', len(removeindexList))\n",
    "    data.drop(data.index[removeindexList], inplace=True)\n",
    "    print('Remaining Images:', len(data))\n",
    "\n",
    "    if display:\n",
    "        hist, _ = np.histogram(data['Steering'], nBin)\n",
    "        plt.bar(center, hist, width=0.06)\n",
    "        plt.plot((np.min(data['Steering']), np.max(data['Steering'])), (samplesPerBin, samplesPerBin))\n",
    "        plt.show()\n",
    "\n",
    "    return data"
   ]
  },
  {
   "cell_type": "code",
   "execution_count": 3,
   "id": "2e6dbb4e",
   "metadata": {},
   "outputs": [
    {
     "name": "stdout",
     "output_type": "stream",
     "text": [
      "Removed Images: 6904\n",
      "Remaining Images: 4699\n"
     ]
    }
   ],
   "source": [
    "nBin = 31\n",
    "samplesPerBin = 500\n",
    "\n",
    "hist, bins = np.histogram(data['Steering'], nBin)\n",
    "\n",
    "removeindexList = []\n",
    "for j in range(nBin):\n",
    "    binDataList = []\n",
    "    for i in range(len(data['Steering'])):\n",
    "        if data['Steering'][i] >= bins[j] and data['Steering'][i] <= bins[j + 1]:\n",
    "            binDataList.append(i)\n",
    "    binDataList = shuffle(binDataList)\n",
    "    binDataList = binDataList[samplesPerBin:]\n",
    "    removeindexList.extend(binDataList)\n",
    "\n",
    "print('Removed Images:', len(removeindexList))\n",
    "data.drop(data.index[removeindexList], inplace=True)  # Drop rows from the data\n",
    "print('Remaining Images:', len(data))"
   ]
  },
  {
   "cell_type": "code",
   "execution_count": 4,
   "id": "b58890c0",
   "metadata": {},
   "outputs": [],
   "source": [
    "def loadData(path, data):\n",
    "  imagesPath = []\n",
    "  steering = []\n",
    "  for i in range(len(data)):\n",
    "    indexed_data = data.iloc[i]\n",
    "    imagesPath.append(f'{path}/IMG/{indexed_data[0]}')\n",
    "    steering.append(float(indexed_data[3]))\n",
    "  imagesPath = np.asarray(imagesPath)\n",
    "  steering = np.asarray(steering)\n",
    "  return imagesPath, steering\n",
    "imagesPath, steerings = loadData(path,data)"
   ]
  },
  {
   "cell_type": "code",
   "execution_count": 5,
   "id": "dc8e4004",
   "metadata": {},
   "outputs": [
    {
     "name": "stdout",
     "output_type": "stream",
     "text": [
      "Total Training Images:  3759\n",
      "Total Validation Images:  940\n"
     ]
    }
   ],
   "source": [
    "from sklearn.model_selection import train_test_split\n",
    "xTrain, xVal, yTrain, yVal = train_test_split(imagesPath, steerings, test_size=0.2,random_state=10)\n",
    "print('Total Training Images: ',len(xTrain))\n",
    "print('Total Validation Images: ',len(xVal))"
   ]
  },
  {
   "cell_type": "code",
   "execution_count": 6,
   "id": "ce82041e",
   "metadata": {},
   "outputs": [],
   "source": [
    "def augmentImage(imgPath, steering):\n",
    "    \"\"\"Augment an image and its corresponding steering angle.\"\"\"\n",
    "    img = mpimg.imread(imgPath)\n",
    "\n",
    "    if np.random.rand() < 0.5:\n",
    "        pan = iaa.Affine(translate_percent={\"x\": (-0.1, 0.1), \"y\": (-0.1, 0.1)})\n",
    "        img = pan.augment_image(img)\n",
    "    \n",
    "    if np.random.rand() < 0.5:\n",
    "        zoom = iaa.Affine(scale=(1, 1.2))\n",
    "        img = zoom.augment_image(img)\n",
    "    \n",
    "    if np.random.rand() < 0.5:\n",
    "        brightness = iaa.Multiply((0.2, 1.2))\n",
    "        img = brightness.augment_image(img)\n",
    "    \n",
    "    if np.random.rand() < 0.5:\n",
    "        img = cv2.flip(img, 1)\n",
    "        steering = -steering  # Flip the steering angle\n",
    "\n",
    "    return img, steering"
   ]
  },
  {
   "cell_type": "code",
   "execution_count": 7,
   "id": "3c0d9308",
   "metadata": {},
   "outputs": [],
   "source": [
    "def preProcess(img):\n",
    "    img = img[60:135,:,:]\n",
    "    img = cv2.cvtColor(img, cv2.COLOR_RGB2YUV)\n",
    "    img = cv2.GaussianBlur(img,  (3, 3), 0)\n",
    "    img = cv2.resize(img, (200, 66))\n",
    "    img = img/255\n",
    "    return img"
   ]
  },
  {
   "cell_type": "code",
   "execution_count": 8,
   "id": "72928357",
   "metadata": {},
   "outputs": [],
   "source": [
    "def batchGen(imagesPath, steeringList, batchSize, trainFlag):\n",
    "    \"\"\"Generate batches of images and steering angles.\"\"\"\n",
    "    while True:\n",
    "        imgBatch = []\n",
    "        steeringBatch = []\n",
    "        \n",
    "        for i in range(batchSize):\n",
    "            index = random.randint(0, len(imagesPath) - 1)\n",
    "            if trainFlag:\n",
    "                img, steering = augmentImage(imagesPath[index], steeringList[index])\n",
    "            else:\n",
    "                img = mpimg.imread(imagesPath[index])\n",
    "                steering = steeringList[index]\n",
    "            \n",
    "            img = preProcess(img)\n",
    "            imgBatch.append(img)\n",
    "            steeringBatch.append(steering)\n",
    "        \n",
    "        yield (np.asarray(imgBatch), np.asarray(steeringBatch))"
   ]
  },
  {
   "cell_type": "code",
   "execution_count": 9,
   "id": "6147c6e1",
   "metadata": {},
   "outputs": [
    {
     "name": "stderr",
     "output_type": "stream",
     "text": [
      "WARNING:absl:`lr` is deprecated, please use `learning_rate` instead, or use the legacy optimizer, e.g.,tf.keras.optimizers.legacy.Adam.\n"
     ]
    },
    {
     "name": "stdout",
     "output_type": "stream",
     "text": [
      "Setting UP\n",
      "Model: \"sequential\"\n",
      "_________________________________________________________________\n",
      " Layer (type)                Output Shape              Param #   \n",
      "=================================================================\n",
      " conv2d (Conv2D)             (None, 31, 98, 24)        1824      \n",
      "                                                                 \n",
      " conv2d_1 (Conv2D)           (None, 14, 47, 36)        21636     \n",
      "                                                                 \n",
      " conv2d_2 (Conv2D)           (None, 5, 22, 48)         43248     \n",
      "                                                                 \n",
      " conv2d_3 (Conv2D)           (None, 3, 20, 64)         27712     \n",
      "                                                                 \n",
      " conv2d_4 (Conv2D)           (None, 1, 18, 64)         36928     \n",
      "                                                                 \n",
      " flatten (Flatten)           (None, 1152)              0         \n",
      "                                                                 \n",
      " dense (Dense)               (None, 100)               115300    \n",
      "                                                                 \n",
      " dense_1 (Dense)             (None, 50)                5050      \n",
      "                                                                 \n",
      " dense_2 (Dense)             (None, 10)                510       \n",
      "                                                                 \n",
      " dense_3 (Dense)             (None, 1)                 11        \n",
      "                                                                 \n",
      "=================================================================\n",
      "Total params: 252,219\n",
      "Trainable params: 252,219\n",
      "Non-trainable params: 0\n",
      "_________________________________________________________________\n"
     ]
    }
   ],
   "source": [
    "print('Setting UP')\n",
    "def createModel():\n",
    "  model = Sequential()\n",
    " \n",
    "  model.add(Conv2D(24, (5, 5), (2, 2), input_shape=(66, 200, 3), activation='elu'))\n",
    "  model.add(Conv2D(36, (5, 5), (2, 2), activation='elu'))\n",
    "  model.add(Conv2D(48, (5, 5), (2, 2), activation='elu'))\n",
    "  model.add(Conv2D(64, (3, 3), activation='elu'))\n",
    "  model.add(Conv2D(64, (3, 3), activation='elu'))\n",
    " \n",
    "  model.add(Flatten())\n",
    "  model.add(Dense(100, activation = 'elu'))\n",
    "  model.add(Dense(50, activation = 'elu'))\n",
    "  model.add(Dense(10, activation = 'elu'))\n",
    "  model.add(Dense(1))\n",
    " \n",
    "  model.compile(Adam(lr=0.0001),loss='mse')\n",
    "  return model\n",
    "model = createModel()\n",
    "model.summary()"
   ]
  },
  {
   "cell_type": "code",
   "execution_count": 10,
   "id": "27a840fc",
   "metadata": {},
   "outputs": [
    {
     "name": "stdout",
     "output_type": "stream",
     "text": [
      "xTrain paths: ['data/IMG/center_2024_12_07_19_11_01_932.jpg', 'data/IMG/center_2024_12_07_19_11_02_000.jpg', 'data/IMG/center_2024_12_07_19_11_02_072.jpg', 'data/IMG/center_2024_12_07_19_11_02_145.jpg', 'data/IMG/center_2024_12_07_19_11_02_215.jpg']\n",
      "Epoch 1/10\n",
      "300/300 [==============================] - 14s 44ms/step - loss: 0.9240 - val_loss: 0.0053\n",
      "Epoch 2/10\n",
      "300/300 [==============================] - 14s 47ms/step - loss: 0.0034 - val_loss: 0.0021\n",
      "Epoch 3/10\n",
      "300/300 [==============================] - 14s 47ms/step - loss: 0.0020 - val_loss: 0.0013\n",
      "Epoch 4/10\n",
      "300/300 [==============================] - 14s 47ms/step - loss: 0.0012 - val_loss: 9.9212e-04\n",
      "Epoch 5/10\n",
      "300/300 [==============================] - 14s 47ms/step - loss: 8.4948e-04 - val_loss: 7.3811e-04\n",
      "Epoch 6/10\n",
      "300/300 [==============================] - 14s 47ms/step - loss: 5.9774e-04 - val_loss: 6.6166e-04\n",
      "Epoch 7/10\n",
      "300/300 [==============================] - 14s 48ms/step - loss: 4.6174e-04 - val_loss: 5.1459e-04\n",
      "Epoch 8/10\n",
      "300/300 [==============================] - 15s 49ms/step - loss: 3.6186e-04 - val_loss: 5.1815e-04\n",
      "Epoch 9/10\n",
      "300/300 [==============================] - 15s 49ms/step - loss: 3.1413e-04 - val_loss: 2.7162e-04\n",
      "Epoch 10/10\n",
      "300/300 [==============================] - 14s 46ms/step - loss: 2.2359e-04 - val_loss: 2.3590e-04\n"
     ]
    }
   ],
   "source": [
    "# Parameters\n",
    "dim = (64, 64)  # Resize images to 64x64 pixels\n",
    "channels = 3     # RGB images\n",
    "batch_size = 32  # Batch size\n",
    "\n",
    "image_dir = 'data/IMG/'\n",
    "image_paths = [os.path.join(image_dir, fname) for fname in os.listdir(image_dir) if fname.startswith('center') and fname.endswith('.jpg')]\n",
    "\n",
    "split_index = int(0.8 * len(image_paths))  # 80% for training\n",
    "xTrain = image_paths[:split_index]\n",
    "xVal = image_paths[split_index:]\n",
    "\n",
    "yTrain = [0.0] * len(xTrain)\n",
    "yVal = [0.0] * len(xVal)\n",
    "\n",
    "def dataGen(image_paths, steering_angles, batch_size, dim, channels):\n",
    "    while True:\n",
    "        batch_images = []\n",
    "        batch_steerings = []\n",
    "        for i in range(batch_size):\n",
    "            # Randomly select an image and corresponding steering angle\n",
    "            index = random.randint(0, len(image_paths) - 1)\n",
    "            imgPath = image_paths[index]\n",
    "            steering = steering_angles[index]\n",
    "\n",
    "            # Ensure the image exists\n",
    "            if not os.path.exists(imgPath):\n",
    "                print(f\"Warning: Image not found at {imgPath}\")\n",
    "                continue\n",
    "\n",
    "            # Load and preprocess the image\n",
    "            img = image.load_img(imgPath, target_size=dim)  # Resize image\n",
    "            img = image.img_to_array(img)  # Convert image to array\n",
    "            batch_images.append(img)\n",
    "            batch_steerings.append(steering)\n",
    "\n",
    "        # Convert lists to arrays\n",
    "        batch_images = np.array(batch_images)\n",
    "        batch_steerings = np.array(batch_steerings)\n",
    "\n",
    "        yield batch_images, batch_steerings  # Yield images and their corresponding steering angles\n",
    "\n",
    "model = Sequential([\n",
    "    Conv2D(24, (5, 5), strides=(2, 2), activation='relu', input_shape=(64, 64, 3)),\n",
    "    Conv2D(36, (5, 5), strides=(2, 2), activation='relu'),\n",
    "    Conv2D(48, (5, 5), strides=(2, 2), activation='relu'),\n",
    "    Flatten(),\n",
    "    Dense(100, activation='relu'),\n",
    "    Dense(50, activation='relu'),\n",
    "    Dense(10, activation='relu'),\n",
    "    Dense(1)\n",
    "])\n",
    "\n",
    "model.compile(optimizer='adam', loss='mean_squared_error')\n",
    "\n",
    "print(f\"xTrain paths: {xTrain[:5]}\")\n",
    "\n",
    "history = model.fit(dataGen(xTrain, yTrain, batch_size, dim, channels),\n",
    "                    steps_per_epoch=300,  # Adjust according to your data\n",
    "                    epochs=10,\n",
    "                    validation_data=dataGen(xVal, yVal, batch_size, dim, channels),\n",
    "                    validation_steps=200)  # Adjust based on validation data"
   ]
  },
  {
   "cell_type": "code",
   "execution_count": 11,
   "id": "2a965bdd",
   "metadata": {},
   "outputs": [
    {
     "name": "stdout",
     "output_type": "stream",
     "text": [
      "Model Saved\n"
     ]
    },
    {
     "data": {
      "image/png": "[encoded data removed]",
      "text/plain": [
       "<Figure size 640x480 with 1 Axes>"
      ]
     },
     "metadata": {},
     "output_type": "display_data"
    }
   ],
   "source": [
    "model.save('model.h5')\n",
    "print('Model Saved')\n",
    "plt.plot(history.history['loss'])\n",
    "plt.plot(history.history['val_loss'])\n",
    "plt.legend(['Training', 'Validation'])\n",
    "plt.title('Loss')\n",
    "plt.xlabel('Epoch')\n",
    "plt.show()"
   ]
  },
  {
   "cell_type": "code",
   "execution_count": null,
   "id": "41aca0a3",
   "metadata": {},
   "outputs": [
    {
     "name": "stdout",
     "output_type": "stream",
     "text": [
      "Setting UP\n"
     ]
    },
    {
     "name": "stderr",
     "output_type": "stream",
     "text": [
      "(4592) wsgi starting up on http://0.0.0.0:4567\n"
     ]
    }
   ],
   "source": [
    "print('Setting UP')\n",
    "#### FOR REAL TIME COMMUNICATION BETWEEN CLIENT AND SERVER\n",
    "sio = socketio.Server()\n",
    "#### FLASK IS A MICRO WEB FRAMEWORK WRITTEN IN PYTHON\n",
    "app = Flask(__name__)  # '__main__'\n",
    " \n",
    "maxSpeed = 10\n",
    " \n",
    " \n",
    "def preProcess(img):\n",
    "    img = img[60:135,:,:]\n",
    "    img = cv2.cvtColor(img, cv2.COLOR_RGB2YUV)\n",
    "    img = cv2.GaussianBlur(img,  (3, 3), 0)\n",
    "    img = cv2.resize(img, (200, 66))\n",
    "    img = img/255\n",
    "    return img\n",
    " \n",
    " \n",
    "@sio.on('telemetry')\n",
    "def telemetry(sid, data):\n",
    "    speed = float(data['speed'])\n",
    "    image = Image.open(BytesIO(base64.b64decode(data['image'])))\n",
    "    image = np.asarray(image)\n",
    "    image = preProcess(image)\n",
    "    image = np.array([image])\n",
    "    steering = float(model.predict(image))\n",
    "    throttle = 1.0 - speed / maxSpeed\n",
    "    print(f'{steering}, {throttle}, {speed}')\n",
    "    sendControl(steering, throttle)\n",
    " \n",
    " \n",
    "@sio.on('connect')\n",
    "def connect(sid, environ):\n",
    "    print('Connected')\n",
    "    sendControl(0, 0)\n",
    " \n",
    " \n",
    "def sendControl(steering, throttle):\n",
    "    sio.emit('steer', data={\n",
    "        'steering_angle': steering.__str__(),\n",
    "        'throttle': throttle.__str__()\n",
    "    })\n",
    " \n",
    " \n",
    "if __name__ == '__main__':\n",
    "    model = load_model('model.h5')\n",
    "    app = socketio.Middleware(sio, app)\n",
    "    ### LISTEN TO PORT 4567\n",
    "    eventlet.wsgi.server(eventlet.listen(('', 4567)), app)"
   ]
  },
  {
   "cell_type": "code",
   "execution_count": null,
   "id": "e3af2395",
   "metadata": {},
   "outputs": [],
   "source": []
  }
 ],
 "metadata": {
  "kernelspec": {
   "display_name": "Python 3 (ipykernel)",
   "language": "python",
   "name": "python3"
  },
  "language_info": {
   "codemirror_mode": {
    "name": "ipython",
    "version": 3
   },
   "file_extension": ".py",
   "mimetype": "text/x-python",
   "name": "python",
   "nbconvert_exporter": "python",
   "pygments_lexer": "ipython3",
   "version": "3.7.17"
  }
 },
 "nbformat": 4,
 "nbformat_minor": 5
}
